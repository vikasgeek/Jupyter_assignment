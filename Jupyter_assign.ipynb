{
 "cells": [
  {
   "cell_type": "markdown",
   "id": "caac89b2-6820-4f54-abca-109e196b0ee2",
   "metadata": {},
   "source": [
    "**Jupyter Assignment**"
   ]
  },
  {
   "cell_type": "markdown",
   "id": "f5fdeb6f-81b2-4373-b8f8-9b4ce6e346d5",
   "metadata": {},
   "source": [
    "Hi All, I am Vikas and I am a Data Engineer. I have created this Jupyter notebook to test my knowledge on Jupyter code and markdown concepts."
   ]
  },
  {
   "cell_type": "markdown",
   "id": "20c40abf-a1c7-4fea-bf71-5b39e30306da",
   "metadata": {},
   "source": [
    "Below are some of the data Science languages:\n",
    " * Python\n",
    " * R\n",
    " * Julia\n",
    " * SQL\n",
    " * Scala\n",
    " * Java"
   ]
  },
  {
   "cell_type": "markdown",
   "id": "017c9993-8b24-414d-a3eb-422a1dba72b0",
   "metadata": {},
   "source": [
    "Below are some of the data Science libraries:\n",
    " * Pandas\n",
    " * Numpy\n",
    " * Searborn\n",
    " * Matplotlib\n",
    " * Scikit-Learn\n",
    " * Beautiful Soup"
   ]
  },
  {
   "cell_type": "markdown",
   "id": "96dcfd23-2776-48de-b171-f66101f08e42",
   "metadata": {},
   "source": [
    "<table><tr><th>Data Science Tools</th></tr>\n",
    "<tr><td>Jupyter Notebook</td></tr>\n",
    "<tr><td>Python</td></tr>\n",
    "<tr><td>Apache Spark</td></tr></table>"
   ]
  },
  {
   "cell_type": "markdown",
   "id": "2109db49-def2-4835-a4e8-44dc39a75eb4",
   "metadata": {},
   "source": [
    "You can add mathematical expressions to the markdown cells by using dollar sign\n",
    "$$x^2 +y^2 = z^2$$"
   ]
  },
  {
   "cell_type": "code",
   "execution_count": 19,
   "id": "031aa6ca-6508-4ec4-8e0a-bb842b0f6414",
   "metadata": {},
   "outputs": [
    {
     "name": "stdout",
     "output_type": "stream",
     "text": [
      "Addition:7\n",
      "Multiplication:12\n"
     ]
    }
   ],
   "source": [
    "x=3\n",
    "y=4\n",
    "print(f'Addition:{x+y}') \n",
    "print(f'Multiplication:{x*y}')"
   ]
  },
  {
   "cell_type": "code",
   "execution_count": 20,
   "id": "bf59f3b7-d6a2-4df0-9594-9f46d722dac4",
   "metadata": {},
   "outputs": [
    {
     "name": "stdout",
     "output_type": "stream",
     "text": [
      "hours:5.0\n"
     ]
    }
   ],
   "source": [
    "minutes=300\n",
    "hours=minutes/60\n",
    "print(f'hours:{hours}')"
   ]
  },
  {
   "cell_type": "markdown",
   "id": "7153c5d1-e2c2-4074-9f46-01c5673bde6e",
   "metadata": {},
   "source": [
    "**Objectives**\n",
    " * Learn Jupyter Notebook tool and apply the knowledge\n",
    " * Create a project to showcase the skills I have learned\n",
    " * Deploy the proect to GITs."
   ]
  },
  {
   "cell_type": "markdown",
   "id": "b057c2c0-c407-4c96-9a54-17f4a984d2cd",
   "metadata": {},
   "source": [
    "Author's Name : **Vikas Lole**"
   ]
  },
  {
   "cell_type": "code",
   "execution_count": null,
   "id": "b7f1fc41-8f0e-47c0-8627-cba78dccefe0",
   "metadata": {},
   "outputs": [],
   "source": []
  },
  {
   "cell_type": "code",
   "execution_count": null,
   "id": "059a236c-9534-4e0b-9540-5abd656b02f2",
   "metadata": {},
   "outputs": [],
   "source": []
  }
 ],
 "metadata": {
  "kernelspec": {
   "display_name": "Python 3 (ipykernel)",
   "language": "python",
   "name": "python3"
  },
  "language_info": {
   "codemirror_mode": {
    "name": "ipython",
    "version": 3
   },
   "file_extension": ".py",
   "mimetype": "text/x-python",
   "name": "python",
   "nbconvert_exporter": "python",
   "pygments_lexer": "ipython3",
   "version": "3.11.7"
  }
 },
 "nbformat": 4,
 "nbformat_minor": 5
}
